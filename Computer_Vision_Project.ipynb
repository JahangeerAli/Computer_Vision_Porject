{
  "nbformat": 4,
  "nbformat_minor": 0,
  "metadata": {
    "colab": {
      "provenance": []
    },
    "kernelspec": {
      "name": "python3",
      "display_name": "Python 3"
    },
    "language_info": {
      "name": "python"
    }
  },
  "cells": [
    {
      "cell_type": "code",
      "execution_count": 3,
      "metadata": {
        "colab": {
          "base_uri": "https://localhost:8080/"
        },
        "id": "2xLLyvbNWONm",
        "outputId": "9805bca8-dcee-47e9-a82c-49c9c0bbebdc"
      },
      "outputs": [
        {
          "output_type": "stream",
          "name": "stdout",
          "text": [
            "Drive already mounted at /content/drive; to attempt to forcibly remount, call drive.mount(\"/content/drive\", force_remount=True).\n"
          ]
        }
      ],
      "source": [
        "from google.colab import drive\n",
        "drive.mount('/content/drive')"
      ]
    },
    {
      "cell_type": "markdown",
      "source": [
        "#Loading Data"
      ],
      "metadata": {
        "id": "ZFOZv5vK7izF"
      }
    },
    {
      "cell_type": "code",
      "source": [
        "#Loading Data\n",
        "# !ls \"/content/drive/MyDrive/Colab Notebooks/data/image\""
      ],
      "metadata": {
        "id": "75ZICzbqXF07"
      },
      "execution_count": 4,
      "outputs": []
    },
    {
      "cell_type": "code",
      "source": [
        "# nzip Dataset\n",
        "# !ls\n",
        "# !7za -y e \"/content/drive/MyDrive/Colab Notebooks/data/image/origin.7z.*\""
      ],
      "metadata": {
        "id": "HeTODh4dXIly"
      },
      "execution_count": 5,
      "outputs": []
    },
    {
      "cell_type": "markdown",
      "source": [
        "#Store Dataset in drive"
      ],
      "metadata": {
        "id": "mC8Cv8Iy7c8_"
      }
    },
    {
      "cell_type": "code",
      "source": [
        "#Store Dataset in drive\n",
        "# !mkdir \"/content/drive/MyDrive/Colab Notebooks/processed_data\"\n",
        "# !cp -r ./origin \"/content/drive/MyDrive/Colab Notebooks/processed_data/\""
      ],
      "metadata": {
        "id": "Yo5voIDnXL2T"
      },
      "execution_count": 6,
      "outputs": []
    },
    {
      "cell_type": "markdown",
      "source": [
        "#import Useful Libraries"
      ],
      "metadata": {
        "id": "IrVORdUT7fG0"
      }
    },
    {
      "cell_type": "code",
      "source": [
        "#import Useful Libraries\n",
        "import numpy as np\n",
        "import os\n",
        "import glob\n",
        "import pandas as pd\n",
        "import PIL\n",
        "import PIL.Image\n",
        "import tensorflow as tf\n",
        "from tensorflow import keras\n",
        "from tensorflow.keras import layers\n",
        "import tensorflow_datasets as tfds"
      ],
      "metadata": {
        "id": "1L-a3jkEXQbQ"
      },
      "execution_count": 7,
      "outputs": []
    },
    {
      "cell_type": "markdown",
      "source": [
        "#Preprocessing"
      ],
      "metadata": {
        "id": "aJSgG0CS7mnt"
      }
    },
    {
      "cell_type": "code",
      "execution_count": 8,
      "metadata": {
        "id": "XjmrM1QL6YzJ"
      },
      "outputs": [],
      "source": [
        "##images_dir =\"/content/drive/MyDrive/Colab Notebooks/new_data\"\n",
        "#images_dir =\"/content/drive/MyDrive/Colab Notebooks/sample_data\"\n",
        "images_folder_path=\"/content/drive/MyDrive/Colab Notebooks/processed_data/origin\"\n",
        "label_file_path=\"/content/drive/MyDrive/Colab Notebooks/data/label/label.lst\""
      ]
    },
    {
      "cell_type": "code",
      "source": [
        "images =list(glob.glob(os.path.join(images_folder_path, '*.jpg')))\n",
        "# PIL.Image.open(str(images[1]))"
      ],
      "metadata": {
        "id": "IXK6K8uczm_t"
      },
      "execution_count": 9,
      "outputs": []
    },
    {
      "cell_type": "code",
      "source": [
        "df_info=pd.read_csv(label_file_path, sep=\" \",header=None)\n",
        "df_info.columns=['image_name','face_id_in_image','face_box_top','face_box_left','face_box_right','face_box_bottom','face_box_cofidence','expression_label']\n",
        "df_info.head()"
      ],
      "metadata": {
        "colab": {
          "base_uri": "https://localhost:8080/",
          "height": 206
        },
        "id": "WExL2MX5YH9G",
        "outputId": "57e73528-e29d-42fa-bc56-4b736c2f3397"
      },
      "execution_count": 10,
      "outputs": [
        {
          "output_type": "execute_result",
          "data": {
            "text/plain": [
              "            image_name  face_id_in_image  face_box_top  face_box_left  \\\n",
              "0  angry_actor_104.jpg                 0            28            113   \n",
              "1  angry_actor_109.jpg                 0            31            157   \n",
              "2  angry_actor_120.jpg                 1            53             53   \n",
              "3   angry_actor_13.jpg                 0            77             51   \n",
              "4  angry_actor_132.jpg                 0            95             31   \n",
              "\n",
              "   face_box_right  face_box_bottom  face_box_cofidence  expression_label  \n",
              "0             226              141             22.9362                 0  \n",
              "1             345              219             50.3056                 0  \n",
              "2             372              372             13.9434                 2  \n",
              "3             362              388             85.8104                 3  \n",
              "4             412              476             82.3948                 0  "
            ],
            "text/html": [
              "\n",
              "\n",
              "  <div id=\"df-cec77583-0724-4ee6-aa1b-575656c98d63\">\n",
              "    <div class=\"colab-df-container\">\n",
              "      <div>\n",
              "<style scoped>\n",
              "    .dataframe tbody tr th:only-of-type {\n",
              "        vertical-align: middle;\n",
              "    }\n",
              "\n",
              "    .dataframe tbody tr th {\n",
              "        vertical-align: top;\n",
              "    }\n",
              "\n",
              "    .dataframe thead th {\n",
              "        text-align: right;\n",
              "    }\n",
              "</style>\n",
              "<table border=\"1\" class=\"dataframe\">\n",
              "  <thead>\n",
              "    <tr style=\"text-align: right;\">\n",
              "      <th></th>\n",
              "      <th>image_name</th>\n",
              "      <th>face_id_in_image</th>\n",
              "      <th>face_box_top</th>\n",
              "      <th>face_box_left</th>\n",
              "      <th>face_box_right</th>\n",
              "      <th>face_box_bottom</th>\n",
              "      <th>face_box_cofidence</th>\n",
              "      <th>expression_label</th>\n",
              "    </tr>\n",
              "  </thead>\n",
              "  <tbody>\n",
              "    <tr>\n",
              "      <th>0</th>\n",
              "      <td>angry_actor_104.jpg</td>\n",
              "      <td>0</td>\n",
              "      <td>28</td>\n",
              "      <td>113</td>\n",
              "      <td>226</td>\n",
              "      <td>141</td>\n",
              "      <td>22.9362</td>\n",
              "      <td>0</td>\n",
              "    </tr>\n",
              "    <tr>\n",
              "      <th>1</th>\n",
              "      <td>angry_actor_109.jpg</td>\n",
              "      <td>0</td>\n",
              "      <td>31</td>\n",
              "      <td>157</td>\n",
              "      <td>345</td>\n",
              "      <td>219</td>\n",
              "      <td>50.3056</td>\n",
              "      <td>0</td>\n",
              "    </tr>\n",
              "    <tr>\n",
              "      <th>2</th>\n",
              "      <td>angry_actor_120.jpg</td>\n",
              "      <td>1</td>\n",
              "      <td>53</td>\n",
              "      <td>53</td>\n",
              "      <td>372</td>\n",
              "      <td>372</td>\n",
              "      <td>13.9434</td>\n",
              "      <td>2</td>\n",
              "    </tr>\n",
              "    <tr>\n",
              "      <th>3</th>\n",
              "      <td>angry_actor_13.jpg</td>\n",
              "      <td>0</td>\n",
              "      <td>77</td>\n",
              "      <td>51</td>\n",
              "      <td>362</td>\n",
              "      <td>388</td>\n",
              "      <td>85.8104</td>\n",
              "      <td>3</td>\n",
              "    </tr>\n",
              "    <tr>\n",
              "      <th>4</th>\n",
              "      <td>angry_actor_132.jpg</td>\n",
              "      <td>0</td>\n",
              "      <td>95</td>\n",
              "      <td>31</td>\n",
              "      <td>412</td>\n",
              "      <td>476</td>\n",
              "      <td>82.3948</td>\n",
              "      <td>0</td>\n",
              "    </tr>\n",
              "  </tbody>\n",
              "</table>\n",
              "</div>\n",
              "      <button class=\"colab-df-convert\" onclick=\"convertToInteractive('df-cec77583-0724-4ee6-aa1b-575656c98d63')\"\n",
              "              title=\"Convert this dataframe to an interactive table.\"\n",
              "              style=\"display:none;\">\n",
              "\n",
              "  <svg xmlns=\"http://www.w3.org/2000/svg\" height=\"24px\"viewBox=\"0 0 24 24\"\n",
              "       width=\"24px\">\n",
              "    <path d=\"M0 0h24v24H0V0z\" fill=\"none\"/>\n",
              "    <path d=\"M18.56 5.44l.94 2.06.94-2.06 2.06-.94-2.06-.94-.94-2.06-.94 2.06-2.06.94zm-11 1L8.5 8.5l.94-2.06 2.06-.94-2.06-.94L8.5 2.5l-.94 2.06-2.06.94zm10 10l.94 2.06.94-2.06 2.06-.94-2.06-.94-.94-2.06-.94 2.06-2.06.94z\"/><path d=\"M17.41 7.96l-1.37-1.37c-.4-.4-.92-.59-1.43-.59-.52 0-1.04.2-1.43.59L10.3 9.45l-7.72 7.72c-.78.78-.78 2.05 0 2.83L4 21.41c.39.39.9.59 1.41.59.51 0 1.02-.2 1.41-.59l7.78-7.78 2.81-2.81c.8-.78.8-2.07 0-2.86zM5.41 20L4 18.59l7.72-7.72 1.47 1.35L5.41 20z\"/>\n",
              "  </svg>\n",
              "      </button>\n",
              "\n",
              "\n",
              "\n",
              "    <div id=\"df-a78ef631-d84e-4e36-8ff2-12def030a753\">\n",
              "      <button class=\"colab-df-quickchart\" onclick=\"quickchart('df-a78ef631-d84e-4e36-8ff2-12def030a753')\"\n",
              "              title=\"Suggest charts.\"\n",
              "              style=\"display:none;\">\n",
              "\n",
              "<svg xmlns=\"http://www.w3.org/2000/svg\" height=\"24px\"viewBox=\"0 0 24 24\"\n",
              "     width=\"24px\">\n",
              "    <g>\n",
              "        <path d=\"M19 3H5c-1.1 0-2 .9-2 2v14c0 1.1.9 2 2 2h14c1.1 0 2-.9 2-2V5c0-1.1-.9-2-2-2zM9 17H7v-7h2v7zm4 0h-2V7h2v10zm4 0h-2v-4h2v4z\"/>\n",
              "    </g>\n",
              "</svg>\n",
              "      </button>\n",
              "    </div>\n",
              "\n",
              "<style>\n",
              "  .colab-df-quickchart {\n",
              "    background-color: #E8F0FE;\n",
              "    border: none;\n",
              "    border-radius: 50%;\n",
              "    cursor: pointer;\n",
              "    display: none;\n",
              "    fill: #1967D2;\n",
              "    height: 32px;\n",
              "    padding: 0 0 0 0;\n",
              "    width: 32px;\n",
              "  }\n",
              "\n",
              "  .colab-df-quickchart:hover {\n",
              "    background-color: #E2EBFA;\n",
              "    box-shadow: 0px 1px 2px rgba(60, 64, 67, 0.3), 0px 1px 3px 1px rgba(60, 64, 67, 0.15);\n",
              "    fill: #174EA6;\n",
              "  }\n",
              "\n",
              "  [theme=dark] .colab-df-quickchart {\n",
              "    background-color: #3B4455;\n",
              "    fill: #D2E3FC;\n",
              "  }\n",
              "\n",
              "  [theme=dark] .colab-df-quickchart:hover {\n",
              "    background-color: #434B5C;\n",
              "    box-shadow: 0px 1px 3px 1px rgba(0, 0, 0, 0.15);\n",
              "    filter: drop-shadow(0px 1px 2px rgba(0, 0, 0, 0.3));\n",
              "    fill: #FFFFFF;\n",
              "  }\n",
              "</style>\n",
              "\n",
              "    <script>\n",
              "      async function quickchart(key) {\n",
              "        const containerElement = document.querySelector('#' + key);\n",
              "        const charts = await google.colab.kernel.invokeFunction(\n",
              "            'suggestCharts', [key], {});\n",
              "      }\n",
              "    </script>\n",
              "\n",
              "      <script>\n",
              "\n",
              "function displayQuickchartButton(domScope) {\n",
              "  let quickchartButtonEl =\n",
              "    domScope.querySelector('#df-a78ef631-d84e-4e36-8ff2-12def030a753 button.colab-df-quickchart');\n",
              "  quickchartButtonEl.style.display =\n",
              "    google.colab.kernel.accessAllowed ? 'block' : 'none';\n",
              "}\n",
              "\n",
              "        displayQuickchartButton(document);\n",
              "      </script>\n",
              "      <style>\n",
              "    .colab-df-container {\n",
              "      display:flex;\n",
              "      flex-wrap:wrap;\n",
              "      gap: 12px;\n",
              "    }\n",
              "\n",
              "    .colab-df-convert {\n",
              "      background-color: #E8F0FE;\n",
              "      border: none;\n",
              "      border-radius: 50%;\n",
              "      cursor: pointer;\n",
              "      display: none;\n",
              "      fill: #1967D2;\n",
              "      height: 32px;\n",
              "      padding: 0 0 0 0;\n",
              "      width: 32px;\n",
              "    }\n",
              "\n",
              "    .colab-df-convert:hover {\n",
              "      background-color: #E2EBFA;\n",
              "      box-shadow: 0px 1px 2px rgba(60, 64, 67, 0.3), 0px 1px 3px 1px rgba(60, 64, 67, 0.15);\n",
              "      fill: #174EA6;\n",
              "    }\n",
              "\n",
              "    [theme=dark] .colab-df-convert {\n",
              "      background-color: #3B4455;\n",
              "      fill: #D2E3FC;\n",
              "    }\n",
              "\n",
              "    [theme=dark] .colab-df-convert:hover {\n",
              "      background-color: #434B5C;\n",
              "      box-shadow: 0px 1px 3px 1px rgba(0, 0, 0, 0.15);\n",
              "      filter: drop-shadow(0px 1px 2px rgba(0, 0, 0, 0.3));\n",
              "      fill: #FFFFFF;\n",
              "    }\n",
              "  </style>\n",
              "\n",
              "      <script>\n",
              "        const buttonEl =\n",
              "          document.querySelector('#df-cec77583-0724-4ee6-aa1b-575656c98d63 button.colab-df-convert');\n",
              "        buttonEl.style.display =\n",
              "          google.colab.kernel.accessAllowed ? 'block' : 'none';\n",
              "\n",
              "        async function convertToInteractive(key) {\n",
              "          const element = document.querySelector('#df-cec77583-0724-4ee6-aa1b-575656c98d63');\n",
              "          const dataTable =\n",
              "            await google.colab.kernel.invokeFunction('convertToInteractive',\n",
              "                                                     [key], {});\n",
              "          if (!dataTable) return;\n",
              "\n",
              "          const docLinkHtml = 'Like what you see? Visit the ' +\n",
              "            '<a target=\"_blank\" href=https://colab.research.google.com/notebooks/data_table.ipynb>data table notebook</a>'\n",
              "            + ' to learn more about interactive tables.';\n",
              "          element.innerHTML = '';\n",
              "          dataTable['output_type'] = 'display_data';\n",
              "          await google.colab.output.renderOutput(dataTable, element);\n",
              "          const docLink = document.createElement('div');\n",
              "          docLink.innerHTML = docLinkHtml;\n",
              "          element.appendChild(docLink);\n",
              "        }\n",
              "      </script>\n",
              "    </div>\n",
              "  </div>\n"
            ]
          },
          "metadata": {},
          "execution_count": 10
        }
      ]
    },
    {
      "cell_type": "markdown",
      "source": [
        "#check target labels"
      ],
      "metadata": {
        "id": "bkrnCHcSG-lv"
      }
    },
    {
      "cell_type": "code",
      "source": [
        "emotion_map = {0: 'Angry', 1: 'Digust', 2: 'Fear', 3: 'Happy', 4: 'Sad', 5: 'Surprise', 6: 'Neutral'}\n",
        "emotion_counts = df_info['expression_label'].value_counts(sort=False).reset_index()\n",
        "emotion_counts.columns = ['expression_label', 'number']\n",
        "emotion_counts['expression_label'] = emotion_counts['expression_label'].map(emotion_map)\n",
        "emotion_counts"
      ],
      "metadata": {
        "colab": {
          "base_uri": "https://localhost:8080/",
          "height": 269
        },
        "id": "0t5jiKsLb346",
        "outputId": "10eaf6a2-bc65-41a8-9db0-be896c0edc56"
      },
      "execution_count": 11,
      "outputs": [
        {
          "output_type": "execute_result",
          "data": {
            "text/plain": [
              "  expression_label  number\n",
              "0            Angry    3671\n",
              "1             Fear    1088\n",
              "2            Happy   30537\n",
              "3          Neutral   34883\n",
              "4              Sad   10559\n",
              "5           Digust    3995\n",
              "6         Surprise    7060"
            ],
            "text/html": [
              "\n",
              "\n",
              "  <div id=\"df-3c754f2d-2cf4-4014-8e02-b280835d3766\">\n",
              "    <div class=\"colab-df-container\">\n",
              "      <div>\n",
              "<style scoped>\n",
              "    .dataframe tbody tr th:only-of-type {\n",
              "        vertical-align: middle;\n",
              "    }\n",
              "\n",
              "    .dataframe tbody tr th {\n",
              "        vertical-align: top;\n",
              "    }\n",
              "\n",
              "    .dataframe thead th {\n",
              "        text-align: right;\n",
              "    }\n",
              "</style>\n",
              "<table border=\"1\" class=\"dataframe\">\n",
              "  <thead>\n",
              "    <tr style=\"text-align: right;\">\n",
              "      <th></th>\n",
              "      <th>expression_label</th>\n",
              "      <th>number</th>\n",
              "    </tr>\n",
              "  </thead>\n",
              "  <tbody>\n",
              "    <tr>\n",
              "      <th>0</th>\n",
              "      <td>Angry</td>\n",
              "      <td>3671</td>\n",
              "    </tr>\n",
              "    <tr>\n",
              "      <th>1</th>\n",
              "      <td>Fear</td>\n",
              "      <td>1088</td>\n",
              "    </tr>\n",
              "    <tr>\n",
              "      <th>2</th>\n",
              "      <td>Happy</td>\n",
              "      <td>30537</td>\n",
              "    </tr>\n",
              "    <tr>\n",
              "      <th>3</th>\n",
              "      <td>Neutral</td>\n",
              "      <td>34883</td>\n",
              "    </tr>\n",
              "    <tr>\n",
              "      <th>4</th>\n",
              "      <td>Sad</td>\n",
              "      <td>10559</td>\n",
              "    </tr>\n",
              "    <tr>\n",
              "      <th>5</th>\n",
              "      <td>Digust</td>\n",
              "      <td>3995</td>\n",
              "    </tr>\n",
              "    <tr>\n",
              "      <th>6</th>\n",
              "      <td>Surprise</td>\n",
              "      <td>7060</td>\n",
              "    </tr>\n",
              "  </tbody>\n",
              "</table>\n",
              "</div>\n",
              "      <button class=\"colab-df-convert\" onclick=\"convertToInteractive('df-3c754f2d-2cf4-4014-8e02-b280835d3766')\"\n",
              "              title=\"Convert this dataframe to an interactive table.\"\n",
              "              style=\"display:none;\">\n",
              "\n",
              "  <svg xmlns=\"http://www.w3.org/2000/svg\" height=\"24px\"viewBox=\"0 0 24 24\"\n",
              "       width=\"24px\">\n",
              "    <path d=\"M0 0h24v24H0V0z\" fill=\"none\"/>\n",
              "    <path d=\"M18.56 5.44l.94 2.06.94-2.06 2.06-.94-2.06-.94-.94-2.06-.94 2.06-2.06.94zm-11 1L8.5 8.5l.94-2.06 2.06-.94-2.06-.94L8.5 2.5l-.94 2.06-2.06.94zm10 10l.94 2.06.94-2.06 2.06-.94-2.06-.94-.94-2.06-.94 2.06-2.06.94z\"/><path d=\"M17.41 7.96l-1.37-1.37c-.4-.4-.92-.59-1.43-.59-.52 0-1.04.2-1.43.59L10.3 9.45l-7.72 7.72c-.78.78-.78 2.05 0 2.83L4 21.41c.39.39.9.59 1.41.59.51 0 1.02-.2 1.41-.59l7.78-7.78 2.81-2.81c.8-.78.8-2.07 0-2.86zM5.41 20L4 18.59l7.72-7.72 1.47 1.35L5.41 20z\"/>\n",
              "  </svg>\n",
              "      </button>\n",
              "\n",
              "\n",
              "\n",
              "    <div id=\"df-0a80332e-146a-430d-8179-4f0b2fde8b0b\">\n",
              "      <button class=\"colab-df-quickchart\" onclick=\"quickchart('df-0a80332e-146a-430d-8179-4f0b2fde8b0b')\"\n",
              "              title=\"Suggest charts.\"\n",
              "              style=\"display:none;\">\n",
              "\n",
              "<svg xmlns=\"http://www.w3.org/2000/svg\" height=\"24px\"viewBox=\"0 0 24 24\"\n",
              "     width=\"24px\">\n",
              "    <g>\n",
              "        <path d=\"M19 3H5c-1.1 0-2 .9-2 2v14c0 1.1.9 2 2 2h14c1.1 0 2-.9 2-2V5c0-1.1-.9-2-2-2zM9 17H7v-7h2v7zm4 0h-2V7h2v10zm4 0h-2v-4h2v4z\"/>\n",
              "    </g>\n",
              "</svg>\n",
              "      </button>\n",
              "    </div>\n",
              "\n",
              "<style>\n",
              "  .colab-df-quickchart {\n",
              "    background-color: #E8F0FE;\n",
              "    border: none;\n",
              "    border-radius: 50%;\n",
              "    cursor: pointer;\n",
              "    display: none;\n",
              "    fill: #1967D2;\n",
              "    height: 32px;\n",
              "    padding: 0 0 0 0;\n",
              "    width: 32px;\n",
              "  }\n",
              "\n",
              "  .colab-df-quickchart:hover {\n",
              "    background-color: #E2EBFA;\n",
              "    box-shadow: 0px 1px 2px rgba(60, 64, 67, 0.3), 0px 1px 3px 1px rgba(60, 64, 67, 0.15);\n",
              "    fill: #174EA6;\n",
              "  }\n",
              "\n",
              "  [theme=dark] .colab-df-quickchart {\n",
              "    background-color: #3B4455;\n",
              "    fill: #D2E3FC;\n",
              "  }\n",
              "\n",
              "  [theme=dark] .colab-df-quickchart:hover {\n",
              "    background-color: #434B5C;\n",
              "    box-shadow: 0px 1px 3px 1px rgba(0, 0, 0, 0.15);\n",
              "    filter: drop-shadow(0px 1px 2px rgba(0, 0, 0, 0.3));\n",
              "    fill: #FFFFFF;\n",
              "  }\n",
              "</style>\n",
              "\n",
              "    <script>\n",
              "      async function quickchart(key) {\n",
              "        const containerElement = document.querySelector('#' + key);\n",
              "        const charts = await google.colab.kernel.invokeFunction(\n",
              "            'suggestCharts', [key], {});\n",
              "      }\n",
              "    </script>\n",
              "\n",
              "      <script>\n",
              "\n",
              "function displayQuickchartButton(domScope) {\n",
              "  let quickchartButtonEl =\n",
              "    domScope.querySelector('#df-0a80332e-146a-430d-8179-4f0b2fde8b0b button.colab-df-quickchart');\n",
              "  quickchartButtonEl.style.display =\n",
              "    google.colab.kernel.accessAllowed ? 'block' : 'none';\n",
              "}\n",
              "\n",
              "        displayQuickchartButton(document);\n",
              "      </script>\n",
              "      <style>\n",
              "    .colab-df-container {\n",
              "      display:flex;\n",
              "      flex-wrap:wrap;\n",
              "      gap: 12px;\n",
              "    }\n",
              "\n",
              "    .colab-df-convert {\n",
              "      background-color: #E8F0FE;\n",
              "      border: none;\n",
              "      border-radius: 50%;\n",
              "      cursor: pointer;\n",
              "      display: none;\n",
              "      fill: #1967D2;\n",
              "      height: 32px;\n",
              "      padding: 0 0 0 0;\n",
              "      width: 32px;\n",
              "    }\n",
              "\n",
              "    .colab-df-convert:hover {\n",
              "      background-color: #E2EBFA;\n",
              "      box-shadow: 0px 1px 2px rgba(60, 64, 67, 0.3), 0px 1px 3px 1px rgba(60, 64, 67, 0.15);\n",
              "      fill: #174EA6;\n",
              "    }\n",
              "\n",
              "    [theme=dark] .colab-df-convert {\n",
              "      background-color: #3B4455;\n",
              "      fill: #D2E3FC;\n",
              "    }\n",
              "\n",
              "    [theme=dark] .colab-df-convert:hover {\n",
              "      background-color: #434B5C;\n",
              "      box-shadow: 0px 1px 3px 1px rgba(0, 0, 0, 0.15);\n",
              "      filter: drop-shadow(0px 1px 2px rgba(0, 0, 0, 0.3));\n",
              "      fill: #FFFFFF;\n",
              "    }\n",
              "  </style>\n",
              "\n",
              "      <script>\n",
              "        const buttonEl =\n",
              "          document.querySelector('#df-3c754f2d-2cf4-4014-8e02-b280835d3766 button.colab-df-convert');\n",
              "        buttonEl.style.display =\n",
              "          google.colab.kernel.accessAllowed ? 'block' : 'none';\n",
              "\n",
              "        async function convertToInteractive(key) {\n",
              "          const element = document.querySelector('#df-3c754f2d-2cf4-4014-8e02-b280835d3766');\n",
              "          const dataTable =\n",
              "            await google.colab.kernel.invokeFunction('convertToInteractive',\n",
              "                                                     [key], {});\n",
              "          if (!dataTable) return;\n",
              "\n",
              "          const docLinkHtml = 'Like what you see? Visit the ' +\n",
              "            '<a target=\"_blank\" href=https://colab.research.google.com/notebooks/data_table.ipynb>data table notebook</a>'\n",
              "            + ' to learn more about interactive tables.';\n",
              "          element.innerHTML = '';\n",
              "          dataTable['output_type'] = 'display_data';\n",
              "          await google.colab.output.renderOutput(dataTable, element);\n",
              "          const docLink = document.createElement('div');\n",
              "          docLink.innerHTML = docLinkHtml;\n",
              "          element.appendChild(docLink);\n",
              "        }\n",
              "      </script>\n",
              "    </div>\n",
              "  </div>\n"
            ]
          },
          "metadata": {},
          "execution_count": 11
        }
      ]
    },
    {
      "cell_type": "code",
      "source": [
        "import matplotlib.pyplot as plt\n",
        "import seaborn as sns\n",
        "emotion_counts = pd.DataFrame(emotion_counts, columns=[\"expression_label\", \"number\"])\n",
        "plt.figure(figsize=(6, 4))\n",
        "plt.bar(emotion_counts.expression_label, emotion_counts.number)\n",
        "plt.title('Class distribution')\n",
        "plt.xlabel('Expression Label', fontsize=14)\n",
        "plt.ylabel('Number', fontsize=12)\n",
        "plt.xticks(rotation=45) # To rotate the x-axis labels for better visibility\n",
        "plt.show()\n"
      ],
      "metadata": {
        "colab": {
          "base_uri": "https://localhost:8080/",
          "height": 452
        },
        "id": "Xt-WQ6qgc1gq",
        "outputId": "797f62eb-205e-4651-97b0-0027114e7fb1"
      },
      "execution_count": 12,
      "outputs": [
        {
          "output_type": "display_data",
          "data": {
            "text/plain": [
              "<Figure size 600x400 with 1 Axes>"
            ],
            "image/png": "[encoded data removed]"
          },
          "metadata": {}
        }
      ]
    },
    {
      "cell_type": "code",
      "source": [
        "df_info.value_counts()\n"
      ],
      "metadata": {
        "colab": {
          "base_uri": "https://localhost:8080/"
        },
        "id": "hC5BC_SGdPhM",
        "outputId": "e2aa0c43-c976-4ae6-b6c5-45843fa26d50"
      },
      "execution_count": 13,
      "outputs": [
        {
          "output_type": "execute_result",
          "data": {
            "text/plain": [
              "image_name                  face_id_in_image  face_box_top  face_box_left  face_box_right  face_box_bottom  face_box_cofidence  expression_label\n",
              "awe_teacher_108.jpg         1                 600           1524           1572            648              72.4882             3                   37\n",
              "astound_expression_400.jpg  3                 288           308            388             368              72.5160             3                   16\n",
              "awe_student_400.jpg         2                 664           388            436             712              82.8833             6                   13\n",
              "amazed_chinese_563.jpg      3                 652           1908           1956            700              56.7663             6                   12\n",
              "                            1                 176           576            624             224              57.5098             6                   12\n",
              "                                                                                                                                                    ..\n",
              "astound_family_168.jpg      0                 56            96             192             152              13.0458             6                    1\n",
              "astound_family_146.jpg      0                 28            103            215             140              26.7751             6                    1\n",
              "astound_family_140.jpg      0                 33            79             214             168              40.0862             6                    1\n",
              "astound_family_12.jpg       0                 76            204            252             124              70.9271             6                    1\n",
              "unhappy_expression_93.jpg   0                 127           190            571             508              80.9479             4                    1\n",
              "Length: 88600, dtype: int64"
            ]
          },
          "metadata": {},
          "execution_count": 13
        }
      ]
    },
    {
      "cell_type": "code",
      "source": [
        "df_sel=df_info[df_info.face_box_cofidence > 80]\n",
        "#print(df_sel)\n",
        "len(df_sel)\n"
      ],
      "metadata": {
        "colab": {
          "base_uri": "https://localhost:8080/"
        },
        "id": "zY7K5LgWdR4-",
        "outputId": "5296ab8a-ee96-48f2-cd03-63873241a89d"
      },
      "execution_count": 14,
      "outputs": [
        {
          "output_type": "execute_result",
          "data": {
            "text/plain": [
              "12127"
            ]
          },
          "metadata": {},
          "execution_count": 14
        }
      ]
    },
    {
      "cell_type": "code",
      "source": [
        "df_sel.shape\n"
      ],
      "metadata": {
        "colab": {
          "base_uri": "https://localhost:8080/"
        },
        "id": "Ei19Dlk_dfo3",
        "outputId": "9219a5df-8101-4827-fd18-af69b7c0ca45"
      },
      "execution_count": 15,
      "outputs": [
        {
          "output_type": "execute_result",
          "data": {
            "text/plain": [
              "(12127, 8)"
            ]
          },
          "metadata": {},
          "execution_count": 15
        }
      ]
    },
    {
      "cell_type": "code",
      "source": [
        "df_sel.columns"
      ],
      "metadata": {
        "colab": {
          "base_uri": "https://localhost:8080/"
        },
        "id": "srTVLnvKdgMt",
        "outputId": "9f82a7f7-3183-4ac5-eebe-46ad27164561"
      },
      "execution_count": 16,
      "outputs": [
        {
          "output_type": "execute_result",
          "data": {
            "text/plain": [
              "Index(['image_name', 'face_id_in_image', 'face_box_top', 'face_box_left',\n",
              "       'face_box_right', 'face_box_bottom', 'face_box_cofidence',\n",
              "       'expression_label'],\n",
              "      dtype='object')"
            ]
          },
          "metadata": {},
          "execution_count": 16
        }
      ]
    },
    {
      "cell_type": "code",
      "source": [
        "df_sel.image_name"
      ],
      "metadata": {
        "colab": {
          "base_uri": "https://localhost:8080/"
        },
        "id": "PDsmR9qeeJ7Y",
        "outputId": "0dc0cde6-8de6-4235-9ff8-9a148916daf5"
      },
      "execution_count": 17,
      "outputs": [
        {
          "output_type": "execute_result",
          "data": {
            "text/plain": [
              "3                    angry_actor_13.jpg\n",
              "4                   angry_actor_132.jpg\n",
              "5                   angry_actor_137.jpg\n",
              "9                   angry_actor_150.jpg\n",
              "12                  angry_actor_161.jpg\n",
              "                      ...              \n",
              "91778       surprised_expression_37.jpg\n",
              "91780      surprised_expression_289.jpg\n",
              "91787    expressionless_husband_673.jpg\n",
              "91789      surprised_expression_381.jpg\n",
              "91790      surprised_expression_395.jpg\n",
              "Name: image_name, Length: 12127, dtype: object"
            ]
          },
          "metadata": {},
          "execution_count": 17
        }
      ]
    },
    {
      "cell_type": "markdown",
      "source": [
        "#Crop Images"
      ],
      "metadata": {
        "id": "hqNbBaDN7t7Q"
      }
    },
    {
      "cell_type": "code",
      "source": [
        "import cv2\n",
        "import os\n",
        "import concurrent.futures\n"
      ],
      "metadata": {
        "id": "TkFLqw0OeNUT"
      },
      "execution_count": 18,
      "outputs": []
    },
    {
      "cell_type": "code",
      "source": [
        "x = []\n",
        "y = []\n",
        "def process_image(row):\n",
        "  img_name = row[\"image_name\"]\n",
        "  x1 = row[\"face_box_left\"]\n",
        "  y1 = row[\"face_box_top\"]\n",
        "  x2 = row[\"face_box_right\"]\n",
        "  y2 = row[\"face_box_bottom\"]\n",
        "  label = row[\"expression_label\"]\n",
        "  img_path = os.path.join(images_folder_path, img_name)\n",
        "  image = cv2.imread(img_path)\n",
        "  if image is not None:\n",
        "    cropped = image[y1:y2, x1:x2]\n",
        "  else:\n",
        "    return None, None\n",
        "  if cropped is not None:\n",
        "    resized_face = cv2.resize(cropped, (64, 64))\n",
        "  else:\n",
        "   return None, None\n",
        "  return resized_face, label"
      ],
      "metadata": {
        "id": "GLDRX7hKeWkv"
      },
      "execution_count": 19,
      "outputs": []
    },
    {
      "cell_type": "markdown",
      "source": [
        "# Function to process images in parallel"
      ],
      "metadata": {
        "id": "hawIswfp70xc"
      }
    },
    {
      "cell_type": "code",
      "source": [
        "# Function to process images in parallel\n",
        "def process_images_in_parallel(dataframe):\n",
        "  with concurrent.futures.ThreadPoolExecutor() as executor:\n",
        "\n",
        "      future_to_row = {executor.submit(process_image, row): row for i, row in dataframe.sample(10000).iterrows()}\n",
        "      for future in concurrent.futures.as_completed(future_to_row):\n",
        "         row = future_to_row[future]\n",
        "         resized_face, label = future.result()\n",
        "         if resized_face is not None:\n",
        "             x.append(resized_face)\n",
        "             y.append(label)\n"
      ],
      "metadata": {
        "id": "vgJTzhF6ekDp"
      },
      "execution_count": 20,
      "outputs": []
    },
    {
      "cell_type": "markdown",
      "source": [
        "# Call the function to process images in parallel"
      ],
      "metadata": {
        "id": "RB07SWhl8GWZ"
      }
    },
    {
      "cell_type": "code",
      "source": [
        "process_images_in_parallel(df_sel)\n"
      ],
      "metadata": {
        "id": "xdrXI0Nqgaih"
      },
      "execution_count": 21,
      "outputs": []
    },
    {
      "cell_type": "markdown",
      "source": [
        "#Data preparation"
      ],
      "metadata": {
        "id": "ccxN9cUx8OlG"
      }
    },
    {
      "cell_type": "code",
      "source": [
        "import numpy as np\n",
        "X= np.array(x)\n",
        "y= np.array(y)"
      ],
      "metadata": {
        "id": "XAbEN2wagneY"
      },
      "execution_count": 23,
      "outputs": []
    },
    {
      "cell_type": "code",
      "source": [
        "import numpy as np\n",
        "from sklearn.preprocessing import StandardScaler, LabelEncoder\n",
        "from sklearn.model_selection import train_test_split\n",
        "from tensorflow.keras.applications import VGG16\n",
        "from tensorflow.keras.layers import Dense, Flatten\n",
        "from tensorflow.keras.models import Model\n",
        "from tensorflow.keras.utils import to_categorical\n"
      ],
      "metadata": {
        "id": "zGYlwwrigrac"
      },
      "execution_count": 24,
      "outputs": []
    },
    {
      "cell_type": "markdown",
      "source": [
        "# Step 1: Normalization"
      ],
      "metadata": {
        "id": "JJZ-mAeh8Ui3"
      }
    },
    {
      "cell_type": "code",
      "source": [
        "X_normalized = X / 255.0\n"
      ],
      "metadata": {
        "id": "t7qJIqn2gs4X"
      },
      "execution_count": 25,
      "outputs": []
    },
    {
      "cell_type": "markdown",
      "source": [
        "# Step 2: Sampling (optional)"
      ],
      "metadata": {
        "id": "nYUdEtcz8Z4R"
      }
    },
    {
      "cell_type": "code",
      "source": [
        "sample_size = 30000\n",
        "random_indices = np.random.choice(len(X_normalized), size=sample_size )\n",
        "X_sampled = X_normalized[random_indices]\n",
        "Y_sampled = y[random_indices]\n"
      ],
      "metadata": {
        "id": "zNR2l3h2g01_"
      },
      "execution_count": 26,
      "outputs": []
    },
    {
      "cell_type": "markdown",
      "source": [
        "# Step 3: Encoding (for classification task)"
      ],
      "metadata": {
        "id": "-FqSBHtP8eX2"
      }
    },
    {
      "cell_type": "code",
      "source": [
        "label_encoder = LabelEncoder()\n",
        "Y_encoded = label_encoder.fit_transform(Y_sampled)\n"
      ],
      "metadata": {
        "id": "hB21OzsZg4TF"
      },
      "execution_count": 27,
      "outputs": []
    },
    {
      "cell_type": "markdown",
      "source": [
        "# Step 4: Train-Test Split"
      ],
      "metadata": {
        "id": "rVnC-ClJ8iVf"
      }
    },
    {
      "cell_type": "code",
      "source": [
        "X_train, X_test, Y_train, Y_test = train_test_split(X_sampled, Y_encoded, test_size=0.2, random_state=42)\n"
      ],
      "metadata": {
        "id": "dHK8NqxLg7ea"
      },
      "execution_count": 28,
      "outputs": []
    },
    {
      "cell_type": "markdown",
      "source": [
        "# Step 5: Load and Fine-tune VGG16 Model"
      ],
      "metadata": {
        "id": "J5FZv8848nmF"
      }
    },
    {
      "cell_type": "code",
      "source": [
        "vgg16 = VGG16(weights='imagenet', include_top=False, input_shape=(64,64,3))\n"
      ],
      "metadata": {
        "id": "OEoybwZQhCmH"
      },
      "execution_count": 29,
      "outputs": []
    },
    {
      "cell_type": "markdown",
      "source": [
        "# Freeze the layers so that they are not updated during training"
      ],
      "metadata": {
        "id": "5DCuMgxC6x9W"
      }
    },
    {
      "cell_type": "code",
      "source": [
        "for layer in vgg16.layers:\n",
        "    layer.trainable = False"
      ],
      "metadata": {
        "id": "3JPCKuH4hFSI"
      },
      "execution_count": 30,
      "outputs": []
    },
    {
      "cell_type": "markdown",
      "source": [
        "# Add custom layers on top of VGG16 for classification"
      ],
      "metadata": {
        "id": "ggzO2QgQ6vYM"
      }
    },
    {
      "cell_type": "code",
      "source": [
        "x = Flatten()(vgg16.output)\n",
        "x = Dense(256, activation='relu')(x)\n",
        "x = Dense(128, activation='relu')(x)\n",
        "predictions = Dense(7, activation='softmax')(x)"
      ],
      "metadata": {
        "id": "KdrFn1BWhGZZ"
      },
      "execution_count": 31,
      "outputs": []
    },
    {
      "cell_type": "markdown",
      "source": [
        "# Create the model"
      ],
      "metadata": {
        "id": "lrGJt9BA6qV9"
      }
    },
    {
      "cell_type": "code",
      "source": [
        "model = Model(inputs=vgg16.input, outputs=predictions)"
      ],
      "metadata": {
        "id": "aP16YBSVhJC_"
      },
      "execution_count": 32,
      "outputs": []
    },
    {
      "cell_type": "markdown",
      "source": [
        "# Compile the model"
      ],
      "metadata": {
        "id": "dJYQVqdi6lh7"
      }
    },
    {
      "cell_type": "code",
      "source": [
        "model.compile(optimizer='adam', loss='sparse_categorical_crossentropy', metrics=['accuracy'])"
      ],
      "metadata": {
        "id": "GaBCllmthLmQ"
      },
      "execution_count": 33,
      "outputs": []
    },
    {
      "cell_type": "markdown",
      "source": [
        "# Train the model"
      ],
      "metadata": {
        "id": "v4VvwNDh6i6B"
      }
    },
    {
      "cell_type": "code",
      "source": [
        "# Train the model\n",
        "model.fit(X_train, Y_train, batch_size=32, epochs=3, validation_data=(X_test, Y_test))\n"
      ],
      "metadata": {
        "colab": {
          "base_uri": "https://localhost:8080/"
        },
        "id": "4XPhDl06hOyW",
        "outputId": "aae6278c-179c-42ef-bca2-e509a0f2de89"
      },
      "execution_count": 34,
      "outputs": [
        {
          "output_type": "stream",
          "name": "stdout",
          "text": [
            "Epoch 1/3\n",
            "750/750 [==============================] - 1662s 2s/step - loss: 0.9656 - accuracy: 0.6650 - val_loss: 0.7433 - val_accuracy: 0.7442\n",
            "Epoch 2/3\n",
            "750/750 [==============================] - 1563s 2s/step - loss: 0.5154 - accuracy: 0.8285 - val_loss: 0.3650 - val_accuracy: 0.8778\n",
            "Epoch 3/3\n",
            "750/750 [==============================] - 1567s 2s/step - loss: 0.2372 - accuracy: 0.9251 - val_loss: 0.1920 - val_accuracy: 0.9397\n"
          ]
        },
        {
          "output_type": "execute_result",
          "data": {
            "text/plain": [
              "<keras.callbacks.History at 0x7ea842e3cc40>"
            ]
          },
          "metadata": {},
          "execution_count": 34
        }
      ]
    },
    {
      "cell_type": "markdown",
      "source": [
        "# Calculate accuracy on test data"
      ],
      "metadata": {
        "id": "RWzUsuiR6f1r"
      }
    },
    {
      "cell_type": "code",
      "source": [
        "loss, accuracy = model.evaluate(X_test, Y_test, batch_size=32)\n",
        "print(f\"Test accuracy: {accuracy:.2f}\")"
      ],
      "metadata": {
        "colab": {
          "base_uri": "https://localhost:8080/"
        },
        "id": "X0EhGBvAhS9s",
        "outputId": "1bda3659-ca48-40b3-d743-9d289788310f"
      },
      "execution_count": 35,
      "outputs": [
        {
          "output_type": "stream",
          "name": "stdout",
          "text": [
            "188/188 [==============================] - 309s 2s/step - loss: 0.1920 - accuracy: 0.9397\n",
            "Test accuracy: 0.94\n"
          ]
        }
      ]
    }
  ]
}